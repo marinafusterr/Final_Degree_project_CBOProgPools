{
 "cells": [
  {
   "cell_type": "code",
   "execution_count": 4,
   "id": "1adc87ad-c88f-4551-8966-419d8f28dbfa",
   "metadata": {},
   "outputs": [],
   "source": [
    "#TAKING ALL THE h5ad FILES TO CONCATENATE"
   ]
  },
  {
   "cell_type": "code",
   "execution_count": 2,
   "id": "f7a99800-2c18-4be6-98ed-fa76fdae6dbc",
   "metadata": {},
   "outputs": [],
   "source": [
    "import numpy as np\n",
    "import pandas as pd\n",
    "import scanpy as sc\n",
    "import matplotlib.pyplot as plt\n",
    "import scipy.io\n",
    "from scipy.sparse import csr_matrix\n",
    "import anndata as ad\n",
    "from scipy.sparse import hstack\n",
    "import seaborn as sns\n",
    "from matplotlib import pylab\n",
    "import igraph as ig\n",
    "import scanpy.external as sce\n",
    "import warnings\n",
    "import harmonypy\n",
    "import random"
   ]
  },
  {
   "cell_type": "code",
   "execution_count": 3,
   "id": "aaacd9f1-442c-4236-9ac2-f3f44e69efff",
   "metadata": {},
   "outputs": [
    {
     "data": {
      "text/plain": [
       "['/group/testa/Project/CBOProgPools/h5ad/GW19_01_20240209_v1.h5ad',\n",
       " '/group/testa/Project/CBOProgPools/h5ad/GW19_02_20240209_v1.h5ad',\n",
       " '/group/testa/Project/CBOProgPools/h5ad/GW16_02_20240209_v1.h5ad',\n",
       " '/group/testa/Project/CBOProgPools/h5ad/GW20_02_20240209_v1.h5ad',\n",
       " '/group/testa/Project/CBOProgPools/h5ad/GW22_05_20240215_v1.h5ad',\n",
       " '/group/testa/Project/CBOProgPools/h5ad/GW18_01_20240209_v1.h5ad',\n",
       " '/group/testa/Project/CBOProgPools/h5ad/GW19_03_20240209_v1.h5ad',\n",
       " '/group/testa/Project/CBOProgPools/h5ad/GW25_04_20240216_v1.h5ad',\n",
       " '/group/testa/Project/CBOProgPools/h5ad/GW20_01_20240209_v1.h5ad',\n",
       " '/group/testa/Project/CBOProgPools/h5ad/GW15_02_20240208_v1.h5ad',\n",
       " '/group/testa/Project/CBOProgPools/h5ad/GW17_01_20240209_v1.h5ad',\n",
       " '/group/testa/Project/CBOProgPools/h5ad/GW15_01_20240208_v1.h5ad',\n",
       " '/group/testa/Project/CBOProgPools/h5ad/GW22_06_20240215_v1.h5ad',\n",
       " '/group/testa/Project/CBOProgPools/h5ad/GW16_01_20240208_v1.h5ad',\n",
       " '/group/testa/Project/CBOProgPools/h5ad/CS19_01_20240208_v1.h5ad',\n",
       " '/group/testa/Project/CBOProgPools/h5ad/GW22_02_20240215_v1.h5ad',\n",
       " '/group/testa/Project/CBOProgPools/h5ad/GW22_01_20240215_v1.h5ad',\n",
       " '/group/testa/Project/CBOProgPools/h5ad/GW15_03_20240208_v1.h5ad',\n",
       " '/group/testa/Project/CBOProgPools/h5ad/CS14_02_20240208_v1.h5ad',\n",
       " '/group/testa/Project/CBOProgPools/h5ad/CS14_01_20240208_v1.h5ad',\n",
       " '/group/testa/Project/CBOProgPools/h5ad/CS22_02_20240208_v1.h5ad',\n",
       " '/group/testa/Project/CBOProgPools/h5ad/GW20_04_20240215_v1.h5ad',\n",
       " '/group/testa/Project/CBOProgPools/h5ad/GW22_04_20240215_v1.h5ad',\n",
       " '/group/testa/Project/CBOProgPools/h5ad/CS15_01_20240208_v1.h5ad',\n",
       " '/group/testa/Project/CBOProgPools/h5ad/GW25_05_20240216_v1.h5ad',\n",
       " '/group/testa/Project/CBOProgPools/h5ad/GW20_03_20240209_v1.h5ad',\n",
       " '/group/testa/Project/CBOProgPools/h5ad/CS22_01_20240208_v1.h5ad',\n",
       " '/group/testa/Project/CBOProgPools/h5ad/GW25_02_20240216_v1.h5ad',\n",
       " '/group/testa/Project/CBOProgPools/h5ad/GW25_03_20240216_v1.h5ad',\n",
       " '/group/testa/Project/CBOProgPools/h5ad/GW25_01_20240216_v1.h5ad',\n",
       " '/group/testa/Project/CBOProgPools/h5ad/GW22_03_20240215_v1.h5ad']"
      ]
     },
     "execution_count": 3,
     "metadata": {},
     "output_type": "execute_result"
    }
   ],
   "source": [
    "import os\n",
    "import glob\n",
    "h5adlist = []\n",
    "for f in glob.glob(\"/group/testa/Project/CBOProgPools/h5ad/*.h5ad\"):\n",
    "    h5adlist.append(f)\n",
    "h5adlist"
   ]
  },
  {
   "cell_type": "code",
   "execution_count": 4,
   "id": "60e13771-e447-46c1-a16b-58d3d016189b",
   "metadata": {},
   "outputs": [
    {
     "data": {
      "text/plain": [
       "0"
      ]
     },
     "execution_count": 4,
     "metadata": {},
     "output_type": "execute_result"
    }
   ],
   "source": [
    "import gc\n",
    "gc.collect()"
   ]
  },
  {
   "cell_type": "code",
   "execution_count": null,
   "id": "7d48de33-3fc6-495c-a35e-afd3cc7a7be1",
   "metadata": {},
   "outputs": [],
   "source": [
    "df0 = sc.read_h5ad(h5adlist[0])\n",
    "adata = df0.copy()\n",
    "adata.obs['dataset']  = 0\n",
    "\n",
    "\n",
    "\n",
    "x = range(1,31)\n",
    "for f in x:\n",
    "    df = sc.read_h5ad(h5adlist[f])\n",
    "    adata = ad.concat([adata,df])\n",
    "    df.obs['dataset'] = f\n",
    "    print(df.shape)\n",
    "adata"
   ]
  },
  {
   "cell_type": "code",
   "execution_count": null,
   "id": "0e942b47",
   "metadata": {},
   "outputs": [],
   "source": [
    "adata.obs.dataset.value_counts()"
   ]
  }
 ],
 "metadata": {
  "kernelspec": {
   "display_name": "Python 3 (ipykernel)",
   "language": "python",
   "name": "python3"
  },
  "language_info": {
   "codemirror_mode": {
    "name": "ipython",
    "version": 3
   },
   "file_extension": ".py",
   "mimetype": "text/x-python",
   "name": "python",
   "nbconvert_exporter": "python",
   "pygments_lexer": "ipython3",
   "version": "3.10.12"
  }
 },
 "nbformat": 4,
 "nbformat_minor": 5
}
